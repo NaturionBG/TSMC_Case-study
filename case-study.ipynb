{
 "cells": [
  {
   "cell_type": "code",
   "execution_count": 40,
   "id": "a98cf5b6",
   "metadata": {},
   "outputs": [],
   "source": [
    "import pandas as pd\n",
    "import numpy as np\n"
   ]
  },
  {
   "cell_type": "code",
   "execution_count": 41,
   "id": "4e4eb4be",
   "metadata": {},
   "outputs": [],
   "source": [
    "def beta(year: int, df_company: pd.DataFrame, df2: pd.DataFrame) -> float:\n",
    "  dfc_year = df_company[df_company['Date'].dt.year == year].dropna()\n",
    "  df2_year = df2[df2['Date'].dt.year == year].dropna()\n",
    "  cor = pd.DataFrame(dfc_year['Change']).join(pd.DataFrame(df2_year['Change']), lsuffix='l', rsuffix='r', how='inner')\n",
    "  corr = cor.corr().iloc[1, 0]\n",
    "  std1 = cor['Changel'].std()\n",
    "  std2 = cor['Changer'].std()\n",
    "  return corr * (std1/std2)\n",
    "\n",
    "def deviation(frame: pd.DataFrame, year: int) -> float:\n",
    "  frame = frame[frame['Date'].dt.year == year]\n",
    "  return frame['Change'].std()\n",
    "\n",
    "def cost_of_debt(tax_rate: float, fininfo:pd.DataFrame, year: int) -> np.ndarray:\n",
    "  fininfo = fininfo[fininfo.index == year]\n",
    "  pretax_debt = np.abs(fininfo.iloc[:, 2]) / fininfo.iloc[:, 0] * 100\n",
    "  return (pretax_debt * (1-tax_rate/100)).values[0]\n",
    "\n",
    "def k(frame: pd.DataFrame, year: int) -> float:\n",
    "  frame = frame[frame['Date'].dt.year == year]\n",
    "  changes = frame['Change'].values/100 +1\n",
    "  return (np.prod(changes) - 1)*100\n",
    "\n",
    "def leverage(frame: pd.DataFrame, year: int) -> float:\n",
    "  frame = frame[frame.index == year]\n",
    "  return (frame.iloc[:, 0] / frame.iloc[:, 1]).values[0]\n",
    "\n",
    "def cost_of_debt_industry(companies: list[pd.DataFrame], tax_rate: float, year: int) -> float:\n",
    "  IE = []\n",
    "  TD = []\n",
    "  for company in companies:\n",
    "    company = company[company.index == year]\n",
    "    IE.append(company.iloc[:, 2].values[0])\n",
    "    TD.append(company.iloc[:, 0].values[0])\n",
    "  return abs(sum(IE))/sum(TD) * (1-tax_rate/100) * 100\n",
    "    \n",
    "def leverage_industry(companies: list[pd.DataFrame], year: int) -> float:\n",
    "  Ls= []\n",
    "  for company in companies:\n",
    "    L = leverage(company, year)\n",
    "    Ls.append(L)\n",
    "  return np.array(Ls).mean()\n",
    "\n",
    "\n",
    "def k_CAPM(k_entity: float, risk_free: float, betta: float) -> float:\n",
    "  return risk_free + betta*(k_entity-risk_free)\n",
    "\n",
    "def Delta(leverage: float, COD: float, tax: float, risk_free: float) -> float:\n",
    "  return leverage*(1-tax/100) * (risk_free - COD)\n",
    "\n",
    "def k_CAPM2(k_entity: float, risk_free: float, betta: float, delta:float) -> float:\n",
    "  return risk_free + betta*(k_entity-risk_free) + delta"
   ]
  },
  {
   "cell_type": "code",
   "execution_count": 42,
   "metadata": {},
   "outputs": [],
   "source": [
    "Market = pd.read_excel(\"SPX.xlsx\").dropna()\n",
    "Industry = pd.read_excel(\"2021-2024_Chip_Industry_Returns.xlsx\").dropna()\n",
    "TSM_YIELD = pd.read_excel(\"2021-2024_TSM_Returns.xlsx\").dropna()\n",
    "INTEL = pd.read_excel(\"INTEL_DEBT-TO-EQUITY.xlsx\", index_col=0).dropna()\n",
    "BCOM = pd.read_excel(\"BROADCOM_DEBT-TO-EQUITY.xlsx\", index_col=0).dropna()\n",
    "NVD = pd.read_excel(\"NVIDIA_DEBT-TO-EQUITY.xlsx\", index_col=0).dropna()\n",
    "SAMS = pd.read_excel(\"SAMSUNG_DEBT-TO-EQUITY.xlsx\", index_col=0).dropna()\n",
    "QCOM = pd.read_excel(\"QUALCOMM_DEBT-TO-EQUITY.xlsx\", index_col=0).dropna()\n",
    "taxes = pd.read_csv(\"weighted_corporate_taxes.csv\", index_col=0).dropna()\n",
    "TSM = pd.read_excel('tsm_financial_information.xlsx', index_col=0).dropna()\n",
    "tetr = pd.read_excel('effective_tax_rates_tsmc.xlsx', index_col=0).dropna()\n"
   ]
  },
  {
   "cell_type": "code",
   "execution_count": 43,
   "id": "241a7ebc",
   "metadata": {},
   "outputs": [],
   "source": [
    "kf_2021 = 1.52\n",
    "kf_2022 = 3.88 \n",
    "kf_2023 = 3.88 \n",
    "kf_2024 = 4.58\n",
    "\n"
   ]
  },
  {
   "cell_type": "code",
   "execution_count": 44,
   "id": "95bf18c8",
   "metadata": {},
   "outputs": [
    {
     "data": {
      "text/plain": [
       "(np.float64(28.303531979240248),\n",
       " np.float64(-19.437920612458072),\n",
       " np.float64(24.233434801403696),\n",
       " np.float64(23.29969165229384))"
      ]
     },
     "execution_count": 44,
     "metadata": {},
     "output_type": "execute_result"
    }
   ],
   "source": [
    "k_tsm_2021 = k(TSM_YIELD, 2021)\n",
    "k_tsm_2022 = k(TSM_YIELD, 2022)\n",
    "k_tsm_2023 = k(TSM_YIELD, 2023)\n",
    "k_tsm_2024 = k(TSM_YIELD, 2024)\n",
    "k_us_2021 = k(Market, 2021)\n",
    "k_us_2022 = k(Market, 2022)\n",
    "k_us_2023 = k(Market, 2023)\n",
    "k_us_2024 = k(Market, 2024)\n",
    "k_ind_2021 = k(Industry, 2021)\n",
    "k_ind_2022 = k(Industry, 2022)\n",
    "k_ind_2023 = k(Industry, 2023)\n",
    "k_ind_2024 = k(Industry, 2024)\n",
    "k_us_2021, k_us_2022, k_us_2023, k_us_2024\n"
   ]
  },
  {
   "cell_type": "code",
   "execution_count": 45,
   "id": "05d1e4c9",
   "metadata": {},
   "outputs": [
    {
     "data": {
      "text/plain": [
       "(np.float64(0.2542009814207935),\n",
       " np.float64(-37.02222965383163),\n",
       " np.float64(39.607349317852304),\n",
       " np.float64(89.91614458771046))"
      ]
     },
     "execution_count": 45,
     "metadata": {},
     "output_type": "execute_result"
    }
   ],
   "source": [
    "k_tsm_2021, k_tsm_2022, k_tsm_2023, k_tsm_2024"
   ]
  },
  {
   "cell_type": "code",
   "execution_count": 46,
   "id": "047a085f",
   "metadata": {},
   "outputs": [
    {
     "data": {
      "text/plain": [
       "(np.float64(19.42411050522004),\n",
       " np.float64(-35.805143898538425),\n",
       " np.float64(65.02112657438623),\n",
       " np.float64(19.34867097913755))"
      ]
     },
     "execution_count": 46,
     "metadata": {},
     "output_type": "execute_result"
    }
   ],
   "source": [
    "k_ind_2021, k_ind_2022, k_ind_2023, k_ind_2024"
   ]
  },
  {
   "cell_type": "code",
   "execution_count": 47,
   "id": "ac64c9f8",
   "metadata": {},
   "outputs": [
    {
     "data": {
      "text/plain": [
       "(np.float64(0.3240734793326558),\n",
       " np.float64(1.2472246577199553),\n",
       " np.float64(1.5453811905848058),\n",
       " np.float64(0.29938433456211466))"
      ]
     },
     "execution_count": 47,
     "metadata": {},
     "output_type": "execute_result"
    }
   ],
   "source": [
    "b_market_tsm_2021 = beta(2021, TSM_YIELD, Market)\n",
    "b_market_tsm_2022 = beta(2022, TSM_YIELD, Market)\n",
    "b_market_tsm_2023 = beta(2023, TSM_YIELD, Market)\n",
    "b_market_tsm_2024 = beta(2024, TSM_YIELD, Market)\n",
    "b_ind_tsm_2021 = beta(2021, TSM_YIELD, Industry)\n",
    "b_ind_tsm_2022 = beta(2022, TSM_YIELD, Industry)\n",
    "b_ind_tsm_2023 = beta(2023, TSM_YIELD, Industry)\n",
    "b_ind_tsm_2024 = beta(2024, TSM_YIELD, Industry)\n",
    "b_market_tsm_2021, b_market_tsm_2022, b_market_tsm_2023, b_market_tsm_2024"
   ]
  },
  {
   "cell_type": "code",
   "execution_count": 48,
   "id": "9772e07d",
   "metadata": {},
   "outputs": [
    {
     "data": {
      "text/plain": [
       "(np.float64(0.593520890683248),\n",
       " np.float64(0.900943911800595),\n",
       " np.float64(1.0241834239090033),\n",
       " np.float64(0.8140325120277278))"
      ]
     },
     "execution_count": 48,
     "metadata": {},
     "output_type": "execute_result"
    }
   ],
   "source": [
    "b_ind_tsm_2021, b_ind_tsm_2022, b_ind_tsm_2023, b_ind_tsm_2024"
   ]
  },
  {
   "cell_type": "code",
   "execution_count": 49,
   "id": "4abe4a43",
   "metadata": {},
   "outputs": [],
   "source": [
    "std_tsm_2021 = deviation(TSM_YIELD, 2021)\n",
    "std_tsm_2022 = deviation(TSM_YIELD, 2022)\n",
    "std_tsm_2023 = deviation(TSM_YIELD, 2023)\n",
    "std_tsm_2024 = deviation(TSM_YIELD, 2024)\n",
    "std_us_2021 = deviation(Market, 2021)\n",
    "std_us_2022 = deviation(Market, 2022)\n",
    "std_us_2023 = deviation(Market, 2023)\n",
    "std_us_2024 = deviation(Market, 2024)\n",
    "std_ind_2021 = deviation(Industry, 2021)\n",
    "std_ind_2022 = deviation(Industry, 2022)\n",
    "std_ind_2023 = deviation(Industry, 2023)\n",
    "std_ind_2024 = deviation(Industry, 2024)"
   ]
  },
  {
   "cell_type": "code",
   "execution_count": null,
   "id": "b503e824",
   "metadata": {},
   "outputs": [],
   "source": []
  },
  {
   "cell_type": "code",
   "execution_count": 50,
   "id": "ab638269",
   "metadata": {},
   "outputs": [
    {
     "data": {
      "text/plain": [
       "(np.float64(0.3512682862670756),\n",
       " np.float64(0.30528796723046425),\n",
       " np.float64(0.2855937996454409),\n",
       " np.float64(0.24539010373727121))"
      ]
     },
     "execution_count": 50,
     "metadata": {},
     "output_type": "execute_result"
    }
   ],
   "source": [
    "L_tsm_2021 = leverage(TSM, 2021)\n",
    "L_tsm_2022 = leverage(TSM, 2022)\n",
    "L_tsm_2023 = leverage(TSM, 2023)\n",
    "L_tsm_2024 = leverage(TSM, 2024)\n",
    "L_tsm_2021, L_tsm_2022, L_tsm_2023, L_tsm_2024"
   ]
  },
  {
   "cell_type": "code",
   "execution_count": 51,
   "id": "9407d7ba",
   "metadata": {},
   "outputs": [
    {
     "data": {
      "text/plain": [
       "(np.float64(0.5318601832716341),\n",
       " np.float64(0.9786181533242252),\n",
       " np.float64(0.902963362844598),\n",
       " np.float64(0.7432814394181075))"
      ]
     },
     "execution_count": 51,
     "metadata": {},
     "output_type": "execute_result"
    }
   ],
   "source": [
    "CD_tsm_2021 = cost_of_debt(taxes.loc['United States'].iloc[-1], TSM, 2021)\n",
    "CD_tsm_2022 = cost_of_debt(taxes.loc['United States'].iloc[-2], TSM, 2022)\n",
    "CD_tsm_2023 = cost_of_debt(taxes.loc['United States'].iloc[-3], TSM, 2023)\n",
    "CD_tsm_2024 = cost_of_debt(taxes.loc['United States'].iloc[-4], TSM, 2024)\n",
    "CD_tsm_2021, CD_tsm_2022, CD_tsm_2023, CD_tsm_2024"
   ]
  },
  {
   "cell_type": "code",
   "execution_count": 52,
   "id": "cbd24f24",
   "metadata": {},
   "outputs": [
    {
     "data": {
      "text/plain": [
       "(np.float64(1.9657900983399792),\n",
       " np.float64(1.9659749191467684),\n",
       " np.float64(2.1073270593734326),\n",
       " np.float64(2.652455024539622))"
      ]
     },
     "execution_count": 52,
     "metadata": {},
     "output_type": "execute_result"
    }
   ],
   "source": [
    "CD_ind_2021 = cost_of_debt_industry([TSM, INTEL, BCOM, NVD, SAMS, QCOM], taxes.loc['United States'].iloc[-1] , 2021)\n",
    "CD_ind_2022 = cost_of_debt_industry([TSM, INTEL, BCOM, NVD, SAMS, QCOM], taxes.loc['United States'].iloc[-2] , 2022)\n",
    "CD_ind_2023 = cost_of_debt_industry([TSM, INTEL, BCOM, NVD, SAMS, QCOM], taxes.loc['United States'].iloc[-3] , 2023)\n",
    "CD_ind_2024 = cost_of_debt_industry([TSM, INTEL, BCOM, NVD, SAMS, QCOM], taxes.loc['United States'].iloc[-4] , 2024)\n",
    "CD_ind_2021, CD_ind_2022, CD_ind_2023, CD_ind_2024\n"
   ]
  },
  {
   "cell_type": "code",
   "execution_count": 53,
   "id": "fda0567c",
   "metadata": {},
   "outputs": [
    {
     "data": {
      "text/plain": [
       "(np.float64(0.7518538852987499),\n",
       " np.float64(0.6406266139993696),\n",
       " np.float64(0.619016544548768),\n",
       " np.float64(0.4399021536878209))"
      ]
     },
     "execution_count": 53,
     "metadata": {},
     "output_type": "execute_result"
    }
   ],
   "source": [
    "L_ind_2021 = leverage_industry([TSM, INTEL, BCOM, NVD, SAMS, QCOM], 2021)\n",
    "L_ind_2022 = leverage_industry([TSM, INTEL, BCOM, NVD, SAMS, QCOM], 2022)\n",
    "L_ind_2023 = leverage_industry([TSM, INTEL, BCOM, NVD, SAMS, QCOM], 2023)\n",
    "L_ind_2024 = leverage_industry([TSM, INTEL, BCOM, NVD, SAMS, QCOM], 2024)\n",
    "L_ind_2021, L_ind_2022, L_ind_2023, L_ind_2024\n"
   ]
  },
  {
   "cell_type": "code",
   "execution_count": 54,
   "id": "ea4bfd5d",
   "metadata": {},
   "outputs": [
    {
     "data": {
      "text/plain": [
       "(np.float64(0.2577233686607182),\n",
       " np.float64(0.657143093172602),\n",
       " np.float64(0.6311206849890282),\n",
       " np.float64(0.7001881697706994))"
      ]
     },
     "execution_count": 54,
     "metadata": {},
     "output_type": "execute_result"
    }
   ],
   "source": [
    "D_2021 = Delta(L_tsm_2021, CD_tsm_2021, taxes.loc['United States'].iloc[-1], 1.52)\n",
    "D_2022 = Delta(L_tsm_2022, CD_tsm_2022, taxes.loc['United States'].iloc[-2], 3.88)\n",
    "D_2023 = Delta(L_tsm_2023, CD_tsm_2023, taxes.loc['United States'].iloc[-3], 3.88)\n",
    "D_2024 = Delta(L_tsm_2024, CD_tsm_2024, taxes.loc['United States'].iloc[-4], 4.58)\n",
    "D_2021, D_2022, D_2023, D_2024"
   ]
  },
  {
   "cell_type": "code",
   "execution_count": 55,
   "id": "809e4c5d",
   "metadata": {},
   "outputs": [
    {
     "data": {
      "text/plain": [
       "(np.float64(10.199832397329839),\n",
       " np.float64(-25.20268555461411),\n",
       " np.float64(35.33381530588347),\n",
       " np.float64(10.184382428529965))"
      ]
     },
     "execution_count": 55,
     "metadata": {},
     "output_type": "execute_result"
    }
   ],
   "source": [
    "ki_CAPM_market_2021 = k_CAPM(k_us_2021, 1.52, b_market_tsm_2021)\n",
    "ki_CAPM_market_2022 = k_CAPM(k_us_2022, 3.88, b_market_tsm_2022)\n",
    "ki_CAPM_market_2023 = k_CAPM(k_us_2023, 3.88, b_market_tsm_2023)\n",
    "ki_CAPM_market_2024 = k_CAPM(k_us_2024, 4.58, b_market_tsm_2024)\n",
    "ki_CAPM_ind_2021 = k_CAPM(k_ind_2021, 1.52, b_ind_tsm_2021)\n",
    "ki_CAPM_ind_2022 = k_CAPM(k_ind_2022, 3.88, b_ind_tsm_2022)\n",
    "ki_CAPM_ind_2023 = k_CAPM(k_ind_2023, 3.88, b_ind_tsm_2023)\n",
    "ki_CAPM_ind_2024 = k_CAPM(k_ind_2024, 4.58, b_ind_tsm_2024)\n",
    "ki_CAPM_market_2021, ki_CAPM_market_2022, ki_CAPM_market_2023, ki_CAPM_market_2024"
   ]
  },
  {
   "cell_type": "code",
   "execution_count": 56,
   "id": "d342e82f",
   "metadata": {},
   "outputs": [
    {
     "data": {
      "text/plain": [
       "(np.float64(12.146463613949495),\n",
       " np.float64(-31.874088784318726),\n",
       " np.float64(66.49972835660863),\n",
       " np.float64(16.602178336458344))"
      ]
     },
     "execution_count": 56,
     "metadata": {},
     "output_type": "execute_result"
    }
   ],
   "source": [
    "ki_CAPM_ind_2021, ki_CAPM_ind_2022, ki_CAPM_ind_2023, ki_CAPM_ind_2024"
   ]
  },
  {
   "cell_type": "code",
   "execution_count": 57,
   "id": "bd2f1420",
   "metadata": {},
   "outputs": [
    {
     "data": {
      "text/plain": [
       "(np.float64(10.457555765990557),\n",
       " np.float64(-24.545542461441507),\n",
       " np.float64(35.9649359908725),\n",
       " np.float64(10.884570598300664))"
      ]
     },
     "execution_count": 57,
     "metadata": {},
     "output_type": "execute_result"
    }
   ],
   "source": [
    "ki_CAPM2_market_2021 = k_CAPM2(k_us_2021, 1.52, b_market_tsm_2021, D_2021)\n",
    "ki_CAPM2_market_2022 = k_CAPM2(k_us_2022, 3.88, b_market_tsm_2022, D_2022)\n",
    "ki_CAPM2_market_2023 = k_CAPM2(k_us_2023, 3.88, b_market_tsm_2023, D_2023)\n",
    "ki_CAPM2_market_2024 = k_CAPM2(k_us_2024, 4.58, b_market_tsm_2024, D_2024)\n",
    "ki_CAPM2_ind_2021 = k_CAPM2(k_ind_2021, 1.52, b_ind_tsm_2021, D_2021)\n",
    "ki_CAPM2_ind_2022 = k_CAPM2(k_ind_2022, 3.88, b_ind_tsm_2022, D_2022)\n",
    "ki_CAPM2_ind_2023 = k_CAPM2(k_ind_2023, 3.88, b_ind_tsm_2023, D_2023)\n",
    "ki_CAPM2_ind_2024 = k_CAPM2(k_ind_2024, 4.58, b_ind_tsm_2024, D_2024)\n",
    "ki_CAPM2_market_2021, ki_CAPM2_market_2022, ki_CAPM2_market_2023, ki_CAPM2_market_2024"
   ]
  },
  {
   "cell_type": "code",
   "execution_count": 58,
   "id": "e3b75e60",
   "metadata": {},
   "outputs": [
    {
     "data": {
      "text/plain": [
       "(np.float64(12.404186982610213),\n",
       " np.float64(-31.216945691146122),\n",
       " np.float64(67.13084904159766),\n",
       " np.float64(17.302366506229042))"
      ]
     },
     "execution_count": 58,
     "metadata": {},
     "output_type": "execute_result"
    }
   ],
   "source": [
    "ki_CAPM2_ind_2021, ki_CAPM2_ind_2022, ki_CAPM2_ind_2023, ki_CAPM2_ind_2024"
   ]
  }
 ],
 "metadata": {
  "kernelspec": {
   "display_name": "Python 3",
   "language": "python",
   "name": "python3"
  },
  "language_info": {
   "codemirror_mode": {
    "name": "ipython",
    "version": 3
   },
   "file_extension": ".py",
   "mimetype": "text/x-python",
   "name": "python",
   "nbconvert_exporter": "python",
   "pygments_lexer": "ipython3",
   "version": "3.13.3"
  }
 },
 "nbformat": 4,
 "nbformat_minor": 5
}
